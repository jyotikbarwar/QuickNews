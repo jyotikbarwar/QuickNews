{
 "cells": [
  {
   "cell_type": "code",
   "execution_count": 2,
   "id": "e821d678",
   "metadata": {
    "scrolled": true
   },
   "outputs": [],
   "source": [
    "# !pip install streamlit requests"
   ]
  },
  {
   "cell_type": "code",
   "execution_count": 5,
   "id": "a1b9cb97",
   "metadata": {},
   "outputs": [],
   "source": [
    "import streamlit as st\n",
    "import requests\n",
    "from PIL import Image\n",
    "from io import BytesIO\n"
   ]
  },
  {
   "cell_type": "code",
   "execution_count": 6,
   "id": "cbd12b12",
   "metadata": {},
   "outputs": [],
   "source": [
    "# Fetch news data\n",
    "def fetch_news():\n",
    "    api_key = \"6b84c4256d1b4adb9c6a3cfe369f03cc\"\n",
    "    url = f\"https://newsapi.org/v2/everything?q=bitcoin&apiKey={api_key}\"\n",
    "    response = requests.get(url)\n",
    "    return response.json()\n",
    "\n",
    "def display_news(index, articles):\n",
    "    article = articles[index]\n",
    "    \n",
    "    st.image(article[\"urlToImage\"] or 'https://www.hhireb.com/wp-content/uploads/2019/08/default-no-img.jpg', width=700)\n",
    "    st.title(article[\"title\"])\n",
    "    st.write(article[\"description\"])\n",
    "    \n",
    "    col1, col2, col3 = st.columns([1, 1, 1])\n",
    "    \n",
    "    with col1:\n",
    "        if index > 0:\n",
    "            if st.button(\"Prev\"):\n",
    "                st.session_state.index = index - 1\n",
    "    \n",
    "    with col2:\n",
    "        if st.button(\"Read More\"):\n",
    "            st.write(f\"[Read More]({article['url']})\")\n",
    "\n",
    "    with col3:\n",
    "        if index < len(articles) - 1:\n",
    "            if st.button(\"Next\"):\n",
    "                st.session_state.index = index + 1\n",
    "\n",
    "def main():\n",
    "    st.title(\"QuickNews\")\n",
    "    \n",
    "    if 'index' not in st.session_state:\n",
    "        st.session_state.index = 0\n",
    "    \n",
    "    data = fetch_news()\n",
    "    articles = data.get(\"articles\", [])\n",
    "    \n",
    "    if articles:\n",
    "        display_news(st.session_state.index, articles)\n",
    "    else:\n",
    "        st.write(\"No news available\")\n",
    "\n",
    "if __name__ == \"__main__\":\n",
    "    main()\n"
   ]
  },
  {
   "cell_type": "code",
   "execution_count": 8,
   "id": "53569a04",
   "metadata": {},
   "outputs": [
    {
     "ename": "SyntaxError",
     "evalue": "invalid syntax (2384014750.py, line 1)",
     "output_type": "error",
     "traceback": [
      "\u001b[0;36m  Cell \u001b[0;32mIn[8], line 1\u001b[0;36m\u001b[0m\n\u001b[0;31m    streamlit run st.py\u001b[0m\n\u001b[0m              ^\u001b[0m\n\u001b[0;31mSyntaxError\u001b[0m\u001b[0;31m:\u001b[0m invalid syntax\n"
     ]
    }
   ],
   "source": [
    "streamlit run st.py"
   ]
  },
  {
   "cell_type": "code",
   "execution_count": null,
   "id": "660e8fa3",
   "metadata": {},
   "outputs": [],
   "source": []
  },
  {
   "cell_type": "code",
   "execution_count": null,
   "id": "9d9fcbc5",
   "metadata": {},
   "outputs": [],
   "source": []
  }
 ],
 "metadata": {
  "kernelspec": {
   "display_name": "Python 3 (ipykernel)",
   "language": "python",
   "name": "python3"
  },
  "language_info": {
   "codemirror_mode": {
    "name": "ipython",
    "version": 3
   },
   "file_extension": ".py",
   "mimetype": "text/x-python",
   "name": "python",
   "nbconvert_exporter": "python",
   "pygments_lexer": "ipython3",
   "version": "3.11.5"
  }
 },
 "nbformat": 4,
 "nbformat_minor": 5
}
